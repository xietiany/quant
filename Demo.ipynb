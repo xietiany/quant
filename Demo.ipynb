{
 "cells": [
  {
   "cell_type": "code",
   "execution_count": 2,
   "id": "39fdfade",
   "metadata": {},
   "outputs": [],
   "source": [
    "from stock import stock"
   ]
  },
  {
   "cell_type": "code",
   "execution_count": 3,
   "id": "51e9c80b",
   "metadata": {},
   "outputs": [],
   "source": [
    "snow = stock('snow')"
   ]
  },
  {
   "cell_type": "code",
   "execution_count": 4,
   "id": "f5069cea",
   "metadata": {},
   "outputs": [
    {
     "data": {
      "text/plain": [
       "2024-01-31   -2.55\n",
       "2023-01-31   -2.50\n",
       "2022-01-31   -2.26\n",
       "2021-01-31   -1.87\n",
       "2020-01-31   -1.26\n",
       "2019-01-31   -0.75\n",
       "dtype: float64"
      ]
     },
     "execution_count": 4,
     "metadata": {},
     "output_type": "execute_result"
    }
   ],
   "source": [
    "snow.incomest.eps"
   ]
  },
  {
   "cell_type": "code",
   "execution_count": 5,
   "id": "8967368a",
   "metadata": {},
   "outputs": [
    {
     "data": {
      "text/plain": [
       "2024-01-31    51721000\n",
       "2023-01-31    23672000\n",
       "2022-01-31    13441000\n",
       "2021-01-31     5647000\n",
       "2020-01-31     8488000\n",
       "2019-01-31     8258000\n",
       "dtype: int64"
      ]
     },
     "execution_count": 5,
     "metadata": {},
     "output_type": "execute_result"
    }
   ],
   "source": [
    "snow.balancest.AP"
   ]
  },
  {
   "cell_type": "code",
   "execution_count": 6,
   "id": "a0d1416e",
   "metadata": {},
   "outputs": [
    {
     "data": {
      "text/plain": [
       "2024-01-31    19212000\n",
       "2023-01-31     8024000\n",
       "2022-01-31     7371000\n",
       "2021-01-31    -2878000\n",
       "2020-01-31     1116000\n",
       "2019-01-31     5170000\n",
       "dtype: int64"
      ]
     },
     "execution_count": 6,
     "metadata": {},
     "output_type": "execute_result"
    }
   ],
   "source": [
    "snow.cashflowst.AP"
   ]
  },
  {
   "cell_type": "code",
   "execution_count": 7,
   "id": "486c6381",
   "metadata": {},
   "outputs": [
    {
     "data": {
      "text/plain": [
       "2024-01-31    19212000\n",
       "2023-01-31     8024000\n",
       "2022-01-31     7371000\n",
       "2021-01-31    -2878000\n",
       "2020-01-31     1116000\n",
       "2019-01-31     5170000\n",
       "dtype: int64"
      ]
     },
     "execution_count": 7,
     "metadata": {},
     "output_type": "execute_result"
    }
   ],
   "source": [
    "snow.cashflowst.AP"
   ]
  },
  {
   "cell_type": "code",
   "execution_count": null,
   "id": "fcf129fb",
   "metadata": {},
   "outputs": [],
   "source": []
  }
 ],
 "metadata": {
  "kernelspec": {
   "display_name": "Python 3 (ipykernel)",
   "language": "python",
   "name": "python3"
  },
  "language_info": {
   "codemirror_mode": {
    "name": "ipython",
    "version": 3
   },
   "file_extension": ".py",
   "mimetype": "text/x-python",
   "name": "python",
   "nbconvert_exporter": "python",
   "pygments_lexer": "ipython3",
   "version": "3.12.4"
  }
 },
 "nbformat": 4,
 "nbformat_minor": 5
}
