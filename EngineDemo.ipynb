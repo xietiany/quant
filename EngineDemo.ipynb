{
 "cells": [
  {
   "cell_type": "code",
   "execution_count": 1,
   "id": "e196217b-a087-461c-81c5-814abc3c3345",
   "metadata": {},
   "outputs": [],
   "source": [
    "from stock import stock"
   ]
  },
  {
   "cell_type": "code",
   "execution_count": 2,
   "id": "417ff773-0e9c-47da-bb0b-6de088b909c5",
   "metadata": {},
   "outputs": [],
   "source": [
    "aapl = stock(\"snow\")"
   ]
  },
  {
   "cell_type": "code",
   "execution_count": 3,
   "id": "bbe5154a-6b05-40b5-af64-85fa75ef4ff7",
   "metadata": {},
   "outputs": [
    {
     "data": {
      "text/plain": [
       "2024-01-31   -2.55\n",
       "2023-01-31   -2.50\n",
       "2022-01-31   -2.26\n",
       "2021-01-31   -1.87\n",
       "2020-01-31   -1.26\n",
       "2019-01-31   -0.75\n",
       "dtype: float64"
      ]
     },
     "execution_count": 3,
     "metadata": {},
     "output_type": "execute_result"
    }
   ],
   "source": [
    "aapl.incomest.eps"
   ]
  },
  {
   "cell_type": "code",
   "execution_count": 4,
   "id": "e98678c6-9df9-4b43-821f-acd23606c018",
   "metadata": {},
   "outputs": [],
   "source": [
    "# RR/WACC forecast, how to calculate beta, \n",
    "# Add the Ratio Infomation/Ratio Calculation\n",
    "# free cash flow calculation\n",
    "# free cash flow valuation engin\n",
    "# add other calculation method\n",
    "\n",
    "# revenue forecast\n",
    "# adding a smooth method to the revenue\n",
    "# stats calculate and threshold determine\n",
    "# profit generation - on each stock\n",
    "\n",
    "# valuation on different history time to perform backtest - backtest\n",
    "# data verification\n",
    "\n",
    "# add override table for certain stocks"
   ]
  },
  {
   "cell_type": "code",
   "execution_count": 5,
   "id": "4afc4cba-40d9-4d6f-8c80-1420ebded394",
   "metadata": {},
   "outputs": [],
   "source": [
    "#CAPM \n",
    "market = 0.1\n",
    "rf = 0.02\n",
    "def CAPM(rf, market, beta):\n",
    "    marketpremium = market - rf\n",
    "    return rf + beta * marketpremium\n",
    "\n",
    "def WACC(return_on_equity, return_on_debt, equityWeight, debtWeight):\n",
    "    return (equityWeight * return_on_equity + debtWeight * return_on_debt) / 100"
   ]
  },
  {
   "cell_type": "code",
   "execution_count": 6,
   "id": "f84c3e86-4b2a-4977-bde9-fc7ff256f6c9",
   "metadata": {},
   "outputs": [
    {
     "data": {
      "text/plain": [
       "0.833"
      ]
     },
     "execution_count": 6,
     "metadata": {},
     "output_type": "execute_result"
    }
   ],
   "source": [
    "aapl.valuation.beta"
   ]
  },
  {
   "cell_type": "code",
   "execution_count": 7,
   "id": "d9c30a0d-479e-4398-a261-28b8e65ca417",
   "metadata": {},
   "outputs": [
    {
     "data": {
      "text/plain": [
       "4.72"
      ]
     },
     "execution_count": 7,
     "metadata": {},
     "output_type": "execute_result"
    }
   ],
   "source": [
    "aapl.valuation.RP"
   ]
  },
  {
   "cell_type": "code",
   "execution_count": 8,
   "id": "2b3d1dbf-a0dc-4c11-a06f-2dd8cbf3376d",
   "metadata": {},
   "outputs": [
    {
     "data": {
      "text/plain": [
       "4.03"
      ]
     },
     "execution_count": 8,
     "metadata": {},
     "output_type": "execute_result"
    }
   ],
   "source": [
    "aapl.valuation.RF"
   ]
  },
  {
   "cell_type": "code",
   "execution_count": null,
   "id": "88a5bc13-8983-4f01-b57f-6b1f075dd938",
   "metadata": {},
   "outputs": [],
   "source": []
  },
  {
   "cell_type": "code",
   "execution_count": null,
   "id": "31993b0a-d1f8-4179-8e10-5731fbda9a2a",
   "metadata": {},
   "outputs": [],
   "source": []
  },
  {
   "cell_type": "code",
   "execution_count": 9,
   "id": "d914d910-3074-4207-a24b-e4f68bc31a6a",
   "metadata": {},
   "outputs": [],
   "source": [
    "ningde = stock(\"300750.SZ\")"
   ]
  },
  {
   "cell_type": "code",
   "execution_count": 10,
   "id": "e9cfda44-2d6c-401e-bb3c-779d517dde1a",
   "metadata": {},
   "outputs": [
    {
     "data": {
      "text/plain": [
       "2028   -89407920261\n",
       "2027   -89407920261\n",
       "2026   -89407920261\n",
       "2025   -89407920261\n",
       "2024   -89407920261\n",
       "2023   -89205901766\n",
       "2022   -89351735128\n",
       "2021   -89481271237\n",
       "2020   -89486458417\n",
       "2019   -89514606476\n",
       "dtype: int64"
      ]
     },
     "execution_count": 10,
     "metadata": {},
     "output_type": "execute_result"
    }
   ],
   "source": [
    "ningde.valuation.EV"
   ]
  },
  {
   "cell_type": "code",
   "execution_count": 11,
   "id": "ab3d3b1f-72d7-417e-87ca-e3a2f51b649d",
   "metadata": {},
   "outputs": [],
   "source": [
    "longji = stock(\"601012.SS\")"
   ]
  },
  {
   "cell_type": "code",
   "execution_count": 12,
   "id": "4620c8b8-4a5e-4957-a206-043dbe7571c3",
   "metadata": {},
   "outputs": [
    {
     "data": {
      "text/plain": [
       "2023-12-31    1.4200\n",
       "2022-12-31    1.9500\n",
       "2021-12-31    1.2000\n",
       "2020-12-31    1.1600\n",
       "2019-12-31    0.7100\n",
       "2018-12-31    0.3800\n",
       "2017-12-31    0.5300\n",
       "2016-12-31    0.2500\n",
       "2015-12-31    0.0914\n",
       "2014-12-31    0.0531\n",
       "2013-12-31    0.0128\n",
       "2012-12-31   -0.0108\n",
       "2011-12-31    0.0717\n",
       "2010-12-31    0.1100\n",
       "2009-12-31    0.0267\n",
       "2008-12-31    0.0278\n",
       "2007-12-31    0.0207\n",
       "dtype: float64"
      ]
     },
     "execution_count": 12,
     "metadata": {},
     "output_type": "execute_result"
    }
   ],
   "source": [
    "longji.incomest.eps"
   ]
  },
  {
   "cell_type": "code",
   "execution_count": 13,
   "id": "1c4d76da-8fa7-490e-899a-78b49aa293ac",
   "metadata": {
    "scrolled": true
   },
   "outputs": [
    {
     "data": {
      "text/plain": [
       "2023-12-31   -1.138200e+09\n",
       "2022-12-31    1.936241e+10\n",
       "2021-12-31    7.418635e+09\n",
       "2020-12-31    6.188286e+09\n",
       "2019-12-31    5.468639e+09\n",
       "2018-12-31   -2.650802e+09\n",
       "2017-12-31   -2.616808e+09\n",
       "2016-12-31   -1.546073e+09\n",
       "2015-12-31   -6.154786e+08\n",
       "2014-12-31   -1.287958e+08\n",
       "2013-12-31   -2.714109e+08\n",
       "2012-12-31   -2.379780e+08\n",
       "2011-12-31   -6.308924e+08\n",
       "2010-12-31    1.842301e+08\n",
       "2009-12-31   -2.238309e+08\n",
       "2008-12-31   -2.791400e+08\n",
       "2007-12-31   -7.256738e+06\n",
       "dtype: float64"
      ]
     },
     "execution_count": 13,
     "metadata": {},
     "output_type": "execute_result"
    }
   ],
   "source": [
    "longji.cashflowst.freeCF"
   ]
  },
  {
   "cell_type": "code",
   "execution_count": 14,
   "id": "f25d7b89-d863-4139-9646-338c95d0dc67",
   "metadata": {},
   "outputs": [
    {
     "data": {
      "text/plain": [
       "2023-12-31   -0.150197\n",
       "2022-12-31    2.553846\n",
       "2021-12-31    0.978952\n",
       "2020-12-31    0.837083\n",
       "2019-12-31    0.739689\n",
       "2018-12-31   -0.396590\n",
       "2017-12-31   -0.391677\n",
       "2016-12-31   -0.253310\n",
       "2015-12-31   -0.108088\n",
       "2014-12-31   -0.023279\n",
       "2013-12-31   -0.048875\n",
       "2012-12-31   -0.047046\n",
       "2011-12-31   -0.154069\n",
       "2010-12-31    0.046855\n",
       "2009-12-31   -0.058626\n",
       "2008-12-31   -0.076999\n",
       "2007-12-31   -0.002000\n",
       "dtype: float64"
      ]
     },
     "execution_count": 14,
     "metadata": {},
     "output_type": "execute_result"
    }
   ],
   "source": [
    "longji.cashflowst.freeCF / longji.incomest.shares"
   ]
  },
  {
   "cell_type": "code",
   "execution_count": 15,
   "id": "3cbc155a-00cd-4b8c-a0ae-3882e3461b55",
   "metadata": {},
   "outputs": [
    {
     "data": {
      "text/plain": [
       "2028    15871590431\n",
       "2027    15871590431\n",
       "2026    15871590431\n",
       "2025    15871590431\n",
       "2024    15871590431\n",
       "2023    15871590431\n",
       "2022    15871590431\n",
       "2021    15871590431\n",
       "2020    15871590431\n",
       "2019    15871590431\n",
       "dtype: int64"
      ]
     },
     "execution_count": 15,
     "metadata": {},
     "output_type": "execute_result"
    }
   ],
   "source": [
    "longji.valuation.freeCashFlowT1"
   ]
  },
  {
   "cell_type": "code",
   "execution_count": 16,
   "id": "0580b59f-bbfc-4f2d-830c-bf67ed79918f",
   "metadata": {},
   "outputs": [
    {
     "data": {
      "text/plain": [
       "3"
      ]
     },
     "execution_count": 16,
     "metadata": {},
     "output_type": "execute_result"
    }
   ],
   "source": [
    "longji.valuation.growthRateLT"
   ]
  },
  {
   "cell_type": "code",
   "execution_count": 17,
   "id": "02055daf-4f80-4394-bdfc-9a7b0036beac",
   "metadata": {},
   "outputs": [
    {
     "data": {
      "text/plain": [
       "8.58"
      ]
     },
     "execution_count": 17,
     "metadata": {},
     "output_type": "execute_result"
    }
   ],
   "source": [
    "longji.valuation.costOfEquity"
   ]
  },
  {
   "cell_type": "code",
   "execution_count": 18,
   "id": "3189b7ba-85f9-4763-8a17-69f5b781d00b",
   "metadata": {},
   "outputs": [
    {
     "data": {
      "text/plain": [
       "4.03"
      ]
     },
     "execution_count": 18,
     "metadata": {},
     "output_type": "execute_result"
    }
   ],
   "source": [
    "longji.valuation.costOfDebt"
   ]
  },
  {
   "cell_type": "code",
   "execution_count": 19,
   "id": "f9624eec-6824-4efc-a298-49dd4c7fc288",
   "metadata": {},
   "outputs": [
    {
     "data": {
      "text/plain": [
       "20.51"
      ]
     },
     "execution_count": 19,
     "metadata": {},
     "output_type": "execute_result"
    }
   ],
   "source": [
    "longji.valuation.debtWeight"
   ]
  },
  {
   "cell_type": "code",
   "execution_count": 20,
   "id": "732a5118-9917-4ac1-b956-f3dc54e9d117",
   "metadata": {},
   "outputs": [
    {
     "data": {
      "text/plain": [
       "79.49"
      ]
     },
     "execution_count": 20,
     "metadata": {},
     "output_type": "execute_result"
    }
   ],
   "source": [
    "longji.valuation.equityWeight"
   ]
  },
  {
   "cell_type": "code",
   "execution_count": 22,
   "id": "0c567381-86cd-4a47-9593-4f23912812cc",
   "metadata": {},
   "outputs": [
    {
     "name": "stdout",
     "output_type": "stream",
     "text": [
      "7.646795\n",
      "using earning per share as forecasting cashflow  1.42\n",
      "using default long term growth 3\n",
      "using WACC required rate of return 7.646795\n"
     ]
    },
    {
     "data": {
      "text/plain": [
       "31.475457815548133"
      ]
     },
     "execution_count": 22,
     "metadata": {},
     "output_type": "execute_result"
    }
   ],
   "source": [
    "longji.RR = True\n",
    "longji.starting = \"eps\"\n",
    "longji.LTGrowth = True\n",
    "longji.FV"
   ]
  },
  {
   "cell_type": "code",
   "execution_count": null,
   "id": "2811d353-0472-4042-8ef7-7ec1b6b023ff",
   "metadata": {},
   "outputs": [],
   "source": [
    "longji.incomest.eps.iloc[0]"
   ]
  },
  {
   "cell_type": "code",
   "execution_count": null,
   "id": "1e74e858-5f36-49cc-9c19-060b9812215a",
   "metadata": {},
   "outputs": [],
   "source": [
    "longji.FV"
   ]
  },
  {
   "cell_type": "code",
   "execution_count": null,
   "id": "33183d75-6848-4baf-b2a2-58f24231e26b",
   "metadata": {},
   "outputs": [],
   "source": [
    "longji.RR"
   ]
  },
  {
   "cell_type": "code",
   "execution_count": 31,
   "id": "f8b8111c-f901-4f02-bcc5-801bbfbd6897",
   "metadata": {},
   "outputs": [
    {
     "data": {
      "text/plain": [
       "2023-12-31    1.4200\n",
       "2022-12-31    1.9500\n",
       "2021-12-31    1.2000\n",
       "2020-12-31    1.1600\n",
       "2019-12-31    0.7100\n",
       "2018-12-31    0.3800\n",
       "2017-12-31    0.5300\n",
       "2016-12-31    0.2500\n",
       "2015-12-31    0.0914\n",
       "2014-12-31    0.0531\n",
       "2013-12-31    0.0128\n",
       "2012-12-31   -0.0108\n",
       "2011-12-31    0.0717\n",
       "2010-12-31    0.1100\n",
       "2009-12-31    0.0267\n",
       "2008-12-31    0.0278\n",
       "2007-12-31    0.0207\n",
       "dtype: float64"
      ]
     },
     "execution_count": 31,
     "metadata": {},
     "output_type": "execute_result"
    }
   ],
   "source": [
    "longji.incomest.eps"
   ]
  },
  {
   "cell_type": "code",
   "execution_count": 30,
   "id": "88077e67-4d8f-43eb-b45f-c095ec886aef",
   "metadata": {},
   "outputs": [
    {
     "data": {
      "text/plain": [
       "2023-12-31   -0.150197\n",
       "2022-12-31    2.553846\n",
       "2021-12-31    0.978952\n",
       "2020-12-31    0.837083\n",
       "2019-12-31    0.739689\n",
       "2018-12-31   -0.396590\n",
       "2017-12-31   -0.391677\n",
       "2016-12-31   -0.253310\n",
       "2015-12-31   -0.108088\n",
       "2014-12-31   -0.023279\n",
       "2013-12-31   -0.048875\n",
       "2012-12-31   -0.047046\n",
       "2011-12-31   -0.154069\n",
       "2010-12-31    0.046855\n",
       "2009-12-31   -0.058626\n",
       "2008-12-31   -0.076999\n",
       "2007-12-31   -0.002000\n",
       "dtype: float64"
      ]
     },
     "execution_count": 30,
     "metadata": {},
     "output_type": "execute_result"
    }
   ],
   "source": [
    "longji.cashflowst.freeCF / longji.incomest.shares"
   ]
  },
  {
   "cell_type": "code",
   "execution_count": 27,
   "id": "da179c0e-2cd1-4d88-86c0-cde863b42a94",
   "metadata": {},
   "outputs": [
    {
     "data": {
      "text/plain": [
       "2023-12-31    1.075143e+10\n",
       "2022-12-31    1.481158e+10\n",
       "2021-12-31    9.085881e+09\n",
       "2020-12-31    8.552369e+09\n",
       "2019-12-31    5.279552e+09\n",
       "2018-12-31    2.557964e+09\n",
       "2017-12-31    3.564526e+09\n",
       "2016-12-31    1.547236e+09\n",
       "2015-12-31    5.203258e+08\n",
       "2014-12-31    2.935539e+08\n",
       "2013-12-31    7.093178e+07\n",
       "2012-12-31   -5.467216e+07\n",
       "2011-12-31    2.841103e+08\n",
       "2010-12-31    4.399917e+08\n",
       "2009-12-31    1.021203e+08\n",
       "2008-12-31    1.009238e+08\n",
       "2007-12-31    7.525740e+07\n",
       "dtype: float64"
      ]
     },
     "execution_count": 27,
     "metadata": {},
     "output_type": "execute_result"
    }
   ],
   "source": [
    "longji.incomest.netInc"
   ]
  },
  {
   "cell_type": "code",
   "execution_count": 38,
   "id": "e4fc5eac-7e39-4df8-a267-dcf15cc5f799",
   "metadata": {},
   "outputs": [
    {
     "name": "stdout",
     "output_type": "stream",
     "text": [
      "10.791811000000001\n",
      "using free cash flow per share as forecasting cashflow  6.435575893158461\n",
      "using default long term growth 3.5\n",
      "using WACC required rate of return 10.791811000000001\n"
     ]
    },
    {
     "data": {
      "text/plain": [
       "91.34659482286371"
      ]
     },
     "execution_count": 38,
     "metadata": {},
     "output_type": "execute_result"
    }
   ],
   "source": [
    "object = stock(\"601888.SS\")\n",
    "object.RR = True\n",
    "object.starting = \"fcfe\"\n",
    "object.LTGrowth = True\n",
    "object.FV"
   ]
  },
  {
   "cell_type": "code",
   "execution_count": null,
   "id": "041e1212-3d11-401e-9535-e3821bcea7b3",
   "metadata": {},
   "outputs": [],
   "source": [
    "object.valuation.growthRateLT"
   ]
  },
  {
   "cell_type": "code",
   "execution_count": 26,
   "id": "25b0aad9-c96e-495b-9830-94bcf549da08",
   "metadata": {},
   "outputs": [],
   "source": [
    "#Should Use WACC\n",
    "longji.RR = False"
   ]
  },
  {
   "cell_type": "code",
   "execution_count": 24,
   "id": "f84a5c14-96cb-47d3-bd8b-22876120e794",
   "metadata": {},
   "outputs": [],
   "source": [
    "longji.starting = \"eps\""
   ]
  },
  {
   "cell_type": "code",
   "execution_count": 25,
   "id": "5becaf9b-bedd-42b8-bef9-2a10839fa071",
   "metadata": {},
   "outputs": [],
   "source": [
    "longji.LTGrowth = True"
   ]
  },
  {
   "cell_type": "code",
   "execution_count": 35,
   "id": "a7eef182-c2b2-4343-ac93-e9e0b22de026",
   "metadata": {},
   "outputs": [
    {
     "data": {
      "text/plain": [
       "10751425556.0"
      ]
     },
     "execution_count": 35,
     "metadata": {},
     "output_type": "execute_result"
    }
   ],
   "source": [
    "longji.incomest.netInc.iloc[0]"
   ]
  },
  {
   "cell_type": "code",
   "execution_count": 36,
   "id": "780ceb50-c553-4578-8c73-b36050fda44c",
   "metadata": {},
   "outputs": [
    {
     "data": {
      "text/plain": [
       "2557964089.0"
      ]
     },
     "execution_count": 36,
     "metadata": {},
     "output_type": "execute_result"
    }
   ],
   "source": [
    "longji.incomest.netInc.iloc[0+5]"
   ]
  },
  {
   "cell_type": "code",
   "execution_count": null,
   "id": "72ab7b65-a0d0-4764-a07f-3291ce7052bc",
   "metadata": {},
   "outputs": [],
   "source": []
  }
 ],
 "metadata": {
  "kernelspec": {
   "display_name": "Python 3 (ipykernel)",
   "language": "python",
   "name": "python3"
  },
  "language_info": {
   "codemirror_mode": {
    "name": "ipython",
    "version": 3
   },
   "file_extension": ".py",
   "mimetype": "text/x-python",
   "name": "python",
   "nbconvert_exporter": "python",
   "pygments_lexer": "ipython3",
   "version": "3.12.4"
  }
 },
 "nbformat": 4,
 "nbformat_minor": 5
}
